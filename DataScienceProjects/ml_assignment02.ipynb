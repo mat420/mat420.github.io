{
 "cells": [
  {
   "cell_type": "markdown",
   "metadata": {},
   "source": [
    "# 1"
   ]
  },
  {
   "cell_type": "markdown",
   "metadata": {},
   "source": [
    "# Without using library\n",
    "(a) Scatter-plot1\n",
    "the radius of the fruits as x-values and the weight of the\n",
    "fruits as y-values. Use ‘o’s as representation for lemons, ‘x’s for pears, and ‘+’s for\n",
    "apples. Add a grid in the background. Use only black color for plotting.\n",
    "(b) Create bar charts2\n",
    "showing the color frequency of the fruits classes,\n",
    "i.e., how many apples are green and how many lemons are yellow. Mark the bars\n",
    "as belonging to certain fruits through hatching.3 Append a legend to explain the\n",
    "hatching-to-fruit assignment."
   ]
  },
  {
   "cell_type": "code",
   "execution_count": 1,
   "metadata": {},
   "outputs": [],
   "source": [
    "import numpy as np\n",
    "import csv\n",
    "import matplotlib.pyplot as plt\n",
    "%matplotlib inline\n",
    "import itertools\n",
    "import warnings\n",
    "warnings.filterwarnings('ignore')"
   ]
  },
  {
   "cell_type": "code",
   "execution_count": 2,
   "metadata": {},
   "outputs": [
    {
     "data": {
      "text/plain": [
       "[['Color', 'Radius (cm)', 'Weight (grams)', 'Fruit (class)'],\n",
       " ['Green', '4.3', '122', 'Pear'],\n",
       " ['Green', '4.6', '152', 'Pear'],\n",
       " ['Green', '3.1', '85', 'Apple'],\n",
       " ['Green', '3.6', '173', 'Pear'],\n",
       " ['Green', '2.5', '65', 'Lemon'],\n",
       " ['Green', '2.5', '70', 'Apple'],\n",
       " ['Green', '2.7', '73', 'Apple'],\n",
       " ['Green', '4.5', '110', 'Pear'],\n",
       " ['Green', '2.5', '86', 'Apple'],\n",
       " ['Green', '2.4', '68', 'Lemon'],\n",
       " ['Green', '4.2', '126', 'Pear'],\n",
       " ['Red', '3.7', '101', 'Apple'],\n",
       " ['Red', '3.7', '100', 'Apple'],\n",
       " ['Red', '3.4', '80', 'Apple'],\n",
       " ['Red', '3.2', '79', 'Apple'],\n",
       " ['Red', '3.1', '69', 'Lemon'],\n",
       " ['Yellow', '2.1', '64', 'Apple'],\n",
       " ['Yellow', '2.6', '58', 'Lemon'],\n",
       " ['Yellow', '2.1', '40', 'Lemon'],\n",
       " ['Yellow', '2.3', '60', 'Lemon'],\n",
       " ['Yellow', '4.2', '105', 'Pear'],\n",
       " ['Yellow', '2.1', '40', 'Lemon'],\n",
       " ['Yellow', '3.2', '64', 'Lemon'],\n",
       " ['Yellow', '2.9', '53', 'Lemon'],\n",
       " ['Yellow', '4.1', '135', 'Pear'],\n",
       " ['Yellow', '5.2', '142', 'Pear'],\n",
       " ['Yellow', '2.3', '60', 'Lemon'],\n",
       " ['Yellow', '0', '137', 'Pear'],\n",
       " ['Yellow', '3', '98', 'Apple'],\n",
       " ['Yellow', '2.4', '0', 'Lemon'],\n",
       " ['Yellow', '4.1', '56', 'Lemon'],\n",
       " ['Yellow', '4.1', '80', 'Apple'],\n",
       " ['Yellow', '5.2', '141', 'Pear']]"
      ]
     },
     "execution_count": 2,
     "metadata": {},
     "output_type": "execute_result"
    }
   ],
   "source": [
    "datalist=[]\n",
    "with open('assignment02.csv',newline='') as csvfile:\n",
    "    data=csv.reader(csvfile)\n",
    "    for r in data:\n",
    "        datalist.append(r)\n",
    "datalist"
   ]
  },
  {
   "cell_type": "code",
   "execution_count": 3,
   "metadata": {},
   "outputs": [
    {
     "name": "stdout",
     "output_type": "stream",
     "text": [
      "[['Green' '4.3' '122' 'Pear']\n",
      " ['Green' '4.6' '152' 'Pear']\n",
      " ['Green' '3.1' '85' 'Apple']\n",
      " ['Green' '3.6' '173' 'Pear']\n",
      " ['Green' '2.5' '65' 'Lemon']\n",
      " ['Green' '2.5' '70' 'Apple']\n",
      " ['Green' '2.7' '73' 'Apple']\n",
      " ['Green' '4.5' '110' 'Pear']\n",
      " ['Green' '2.5' '86' 'Apple']\n",
      " ['Green' '2.4' '68' 'Lemon']\n",
      " ['Green' '4.2' '126' 'Pear']\n",
      " ['Red' '3.7' '101' 'Apple']\n",
      " ['Red' '3.7' '100' 'Apple']\n",
      " ['Red' '3.4' '80' 'Apple']\n",
      " ['Red' '3.2' '79' 'Apple']\n",
      " ['Red' '3.1' '69' 'Lemon']\n",
      " ['Yellow' '2.1' '64' 'Apple']\n",
      " ['Yellow' '2.6' '58' 'Lemon']\n",
      " ['Yellow' '2.1' '40' 'Lemon']\n",
      " ['Yellow' '2.3' '60' 'Lemon']\n",
      " ['Yellow' '4.2' '105' 'Pear']\n",
      " ['Yellow' '2.1' '40' 'Lemon']\n",
      " ['Yellow' '3.2' '64' 'Lemon']\n",
      " ['Yellow' '2.9' '53' 'Lemon']\n",
      " ['Yellow' '4.1' '135' 'Pear']\n",
      " ['Yellow' '5.2' '142' 'Pear']\n",
      " ['Yellow' '2.3' '60' 'Lemon']\n",
      " ['Yellow' '0' '137' 'Pear']\n",
      " ['Yellow' '3' '98' 'Apple']\n",
      " ['Yellow' '2.4' '0' 'Lemon']\n",
      " ['Yellow' '4.1' '56' 'Lemon']\n",
      " ['Yellow' '4.1' '80' 'Apple']\n",
      " ['Yellow' '5.2' '141' 'Pear']]\n"
     ]
    }
   ],
   "source": [
    "datalist.pop(0)\n",
    "data_array=np.array(datalist)\n",
    "print(data_array)"
   ]
  },
  {
   "cell_type": "markdown",
   "metadata": {},
   "source": [
    "# 2"
   ]
  },
  {
   "cell_type": "code",
   "execution_count": 19,
   "metadata": {},
   "outputs": [
    {
     "data": {
      "image/png": "[encoded data removed]",
      "text/plain": [
       "<Figure size 864x720 with 1 Axes>"
      ]
     },
     "metadata": {
      "needs_background": "light"
     },
     "output_type": "display_data"
    }
   ],
   "source": [
    "#(a)\n",
    "for i in data_array:\n",
    "    mark={\"Lemon\":\"o\",\"Pear\":\"x\",\"Apple\":\"+\"}\n",
    "    radius=[i[1]]\n",
    "    weight=[i[2]]\n",
    "    plt.scatter(x=radius,y=weight,c=\"black\",marker=mark[i[3]])\n",
    "plt.grid(True, linewidth=.5, color='grey', linestyle='-')\n",
    "plt.title(\"Scatter Plot\",fontsize=20)\n",
    "plt.xlabel(\"Radius(cm)\",fontsize=14)\n",
    "plt.ylabel(\"Weight (grams)\",fontsize=14)\n",
    "plt.rcParams['figure.figsize']= 12,10\n",
    "plt.show()"
   ]
  },
  {
   "cell_type": "code",
   "execution_count": 5,
   "metadata": {},
   "outputs": [
    {
     "name": "stdout",
     "output_type": "stream",
     "text": [
      "[4, 4, 1]\n",
      "[5, 0, 2]\n",
      "[3, 5, 9]\n"
     ]
    }
   ],
   "source": [
    "fruits=[]\n",
    "col=[]\n",
    "for f in data_array:\n",
    "    fruits.append(f[3])\n",
    "    col.append(f[0])\n",
    "col_freq=[len(list(group)) for key, group in itertools.groupby(col)]\n",
    "fruits_freq=[len(list(group)) for key, group in itertools.groupby(fruits)]\n",
    "\n",
    "count=0\n",
    "count2=0\n",
    "count3=0\n",
    "count4=0\n",
    "count5=0\n",
    "count6=0\n",
    "count7=0\n",
    "count8=0\n",
    "count9=0\n",
    "green_freq=[]\n",
    "red_freq=[]\n",
    "yellow_freq=[]\n",
    "for j in data_array:\n",
    "    if(j[3]=='Apple' and j[0]=='Green'):\n",
    "        count=count+1\n",
    "    elif(j[3]=='Pear' and j[0]=='Green'):\n",
    "        count2=count2+1\n",
    "    elif(j[3]=='Lemon' and j[0]=='Green'):\n",
    "        count3=count3+1\n",
    "    elif(j[3]=='Apple' and j[0]=='Red'):\n",
    "        count4=count4+1\n",
    "    elif(j[3]=='Pear' and j[0]=='Red'):\n",
    "        count5=count5+1\n",
    "    elif(j[3]=='Lemon' and j[0]=='Red'):\n",
    "        count6=count6+1\n",
    "    elif(j[3]=='Apple' and j[0]=='Yellow'):\n",
    "        count7=count7+1\n",
    "    elif(j[3]=='Pear' and j[0]=='Yellow'):\n",
    "        count8=count8+1\n",
    "    elif(j[3]=='Lemon' and j[0]=='Yellow'):\n",
    "        count9=count9+1\n",
    "        \n",
    "green_freq.append(count)\n",
    "green_freq.append(count4)\n",
    "green_freq.append(count6)\n",
    "\n",
    "red_freq.append(count2)\n",
    "red_freq.append(count5)\n",
    "red_freq.append(count3)\n",
    "\n",
    "yellow_freq.append(count7)\n",
    "yellow_freq.append(count8)\n",
    "yellow_freq.append(count9)\n",
    "\n",
    "print(green_freq)\n",
    "print(red_freq)\n",
    "print(yellow_freq)"
   ]
  },
  {
   "cell_type": "code",
   "execution_count": 6,
   "metadata": {},
   "outputs": [
    {
     "data": {
      "image/png": "[encoded data removed]",
      "text/plain": [
       "<Figure size 1080x504 with 1 Axes>"
      ]
     },
     "metadata": {
      "needs_background": "light"
     },
     "output_type": "display_data"
    }
   ],
   "source": [
    "x=np.arange(len(green_freq))\n",
    "fig, axes = plt.subplots(ncols=1,nrows=1,figsize=(15,7))\n",
    "width=0.20\n",
    "#Green\n",
    "axes.bar(x,green_freq,width,label=\"Apple\",align='edge',color='darkgrey',hatch='/',edgecolor='black')\n",
    "axes.bar(x+.3,red_freq,width,label=\"Pear\",color='darkgrey',edgecolor='black',hatch='.')\n",
    "axes.bar(x+.50,yellow_freq,width,color='darkgrey',edgecolor='black',label='Lemon',hatch='\\\\')   \n",
    "\n",
    "axes.set_xticks([i + 0.25 for i in range(len(red_freq))])\n",
    "axes.set_xticklabels(['Green','Red','Yellow'])\n",
    "plt.ylabel(\"Frequency\",fontsize=14)\n",
    "plt.title(\"Barplot\",fontsize=30)\n",
    "plt.legend(loc='upper left',bbox_to_anchor=[1,1])\n",
    "plt.show()"
   ]
  },
  {
   "cell_type": "markdown",
   "metadata": {},
   "source": [
    "# 3"
   ]
  },
  {
   "cell_type": "code",
   "execution_count": 7,
   "metadata": {},
   "outputs": [
    {
     "name": "stdout",
     "output_type": "stream",
     "text": [
      "[['Colors' 'Radius_cm' 'Weight_gm' 'Fruits']\n",
      " ['Green' '4.3' '122' 'Pear']\n",
      " ['Green' '4.6' '152' 'Pear']\n",
      " ['Green' '3.1' '85' 'Apple']\n",
      " ['Green' '3.6' '173' 'Pear']\n",
      " ['Green' '2.5' '65' 'Lemon']\n",
      " ['Green' '2.5' '70' 'Apple']\n",
      " ['Green' '2.7' '73' 'Apple']\n",
      " ['Green' '4.5' '110' 'Pear']\n",
      " ['Green' '2.5' '86' 'Apple']\n",
      " ['Green' '2.4' '68' 'Lemon']\n",
      " ['Green' '4.2' '126' 'Pear']\n",
      " ['Red' '3.7' '101' 'Apple']\n",
      " ['Red' '3.7' '100' 'Apple']\n",
      " ['Red' '3.4' '80' 'Apple']\n",
      " ['Red' '3.2' '79' 'Apple']\n",
      " ['Red' '3.1' '69' 'Lemon']\n",
      " ['Yellow' '2.1' '64' 'Apple']\n",
      " ['Yellow' '2.6' '58' 'Lemon']\n",
      " ['Yellow' '2.1' '40' 'Lemon']\n",
      " ['Yellow' '2.3' '60' 'Lemon']\n",
      " ['Yellow' '4.2' '105' 'Pear']\n",
      " ['Yellow' '2.1' '40' 'Lemon']\n",
      " ['Yellow' '3.2' '64' 'Lemon']\n",
      " ['Yellow' '2.9' '53' 'Lemon']\n",
      " ['Yellow' '4.1' '135' 'Pear']\n",
      " ['Yellow' '5.2' '142' 'Pear']\n",
      " ['Yellow' '2.3' '60' 'Lemon']\n",
      " ['Yellow' '0' '137' 'Pear']\n",
      " ['Yellow' '3' '98' 'Apple']\n",
      " ['Yellow' '2.4' '0' 'Lemon']\n",
      " ['Yellow' '4.1' '56' 'Lemon']\n",
      " ['Yellow' '4.1' '80' 'Apple']\n",
      " ['Yellow' '5.2' '141' 'Pear']]\n"
     ]
    }
   ],
   "source": [
    "new_row=np.array(['Colors','Radius_cm','Weight_gm','Fruits'])\n",
    "new_dataset=np.vstack((new_row,data_array))\n",
    "print(new_dataset)"
   ]
  },
  {
   "cell_type": "code",
   "execution_count": 8,
   "metadata": {},
   "outputs": [
    {
     "name": "stdout",
     "output_type": "stream",
     "text": [
      "[['Colors' 'Radius_cm' 'Weight_gm' 'Fruits']\n",
      " ['Green' '2.4' '68' 'Lemon']\n",
      " ['Green' '2.5' '65' 'Lemon']\n",
      " ['Green' '2.5' '70' 'Apple']\n",
      " ['Green' '2.5' '86' 'Apple']\n",
      " ['Green' '2.7' '73' 'Apple']\n",
      " ['Green' '3.1' '85' 'Apple']\n",
      " ['Green' '3.6' '173' 'Pear']\n",
      " ['Green' '4.2' '126' 'Pear']\n",
      " ['Green' '4.3' '122' 'Pear']\n",
      " ['Green' '4.5' '110' 'Pear']\n",
      " ['Green' '4.6' '152' 'Pear']\n",
      " ['Red' '3.1' '69' 'Lemon']\n",
      " ['Red' '3.2' '79' 'Apple']\n",
      " ['Red' '3.4' '80' 'Apple']\n",
      " ['Red' '3.7' '100' 'Apple']\n",
      " ['Red' '3.7' '101' 'Apple']\n",
      " ['Yellow' '0' '137' 'Pear']\n",
      " ['Yellow' '2.1' '40' 'Lemon']\n",
      " ['Yellow' '2.1' '64' 'Apple']\n",
      " ['Yellow' '2.3' '60' 'Lemon']\n",
      " ['Yellow' '2.4' '0' 'Lemon']\n",
      " ['Yellow' '2.6' '58' 'Lemon']\n",
      " ['Yellow' '2.9' '53' 'Lemon']\n",
      " ['Yellow' '3' '98' 'Apple']\n",
      " ['Yellow' '3.2' '64' 'Lemon']\n",
      " ['Yellow' '4.1' '135' 'Pear']\n",
      " ['Yellow' '4.1' '56' 'Lemon']\n",
      " ['Yellow' '4.1' '80' 'Apple']\n",
      " ['Yellow' '4.2' '105' 'Pear']\n",
      " ['Yellow' '5.2' '141' 'Pear']\n",
      " ['Yellow' '5.2' '142' 'Pear']]\n"
     ]
    }
   ],
   "source": [
    "#(a)\n",
    "duplicate_removal_data=np.unique(new_dataset,axis=0)\n",
    "print(duplicate_removal_data)"
   ]
  },
  {
   "cell_type": "code",
   "execution_count": 9,
   "metadata": {},
   "outputs": [],
   "source": [
    "#(b)"
   ]
  },
  {
   "cell_type": "code",
   "execution_count": 10,
   "metadata": {},
   "outputs": [
    {
     "name": "stdout",
     "output_type": "stream",
     "text": [
      "[ 68.          65.          70.          86.          73.\n",
      "  85.         173.         126.         122.         110.\n",
      " 152.          69.          79.          80.         100.\n",
      " 101.         137.          40.          64.          60.\n",
      "  93.06666667  58.          53.          98.          64.\n",
      " 135.          56.          80.         105.         141.\n",
      " 142.        ]\n"
     ]
    }
   ],
   "source": [
    "new=duplicate_removal_data[1:,2].astype(np.float)  \n",
    "weight_mean=np.mean(new[new>0])\n",
    "replaced_weight=np.where(new==0,weight_mean,new)\n",
    "print(replaced_weight)"
   ]
  },
  {
   "cell_type": "code",
   "execution_count": 11,
   "metadata": {},
   "outputs": [
    {
     "name": "stdout",
     "output_type": "stream",
     "text": [
      "[2.4        2.5        2.5        2.5        2.7        3.1\n",
      " 3.6        4.2        4.3        4.5        4.6        3.1\n",
      " 3.2        3.4        3.7        3.7        3.38333333 2.1\n",
      " 2.1        2.3        2.4        2.6        2.9        3.\n",
      " 3.2        4.1        4.1        4.1        4.2        5.2\n",
      " 5.2       ]\n"
     ]
    }
   ],
   "source": [
    "new_rad=duplicate_removal_data[1:,1].astype(np.float)  \n",
    "rad_mean=np.mean(new_rad[new_rad>0])\n",
    "replaced_radius=np.where(new_rad==0,rad_mean,new_rad)\n",
    "print(replaced_radius)"
   ]
  },
  {
   "cell_type": "code",
   "execution_count": 12,
   "metadata": {},
   "outputs": [],
   "source": [
    "#(c)Nominal to Numeric conversion"
   ]
  },
  {
   "cell_type": "code",
   "execution_count": 13,
   "metadata": {},
   "outputs": [
    {
     "name": "stdout",
     "output_type": "stream",
     "text": [
      "[[0 1 2]]\n",
      "['Green', 'Red', 'Yellow']\n",
      "['Yellow', 'Red', 'Yellow']\n"
     ]
    }
   ],
   "source": [
    "nominal=duplicate_removal_data[1:,0]\n",
    "nom=np.unique(nominal)\n",
    "dict1={0:\"Green\",1:\"Red\",2:\"Yellow\"}\n",
    "numeric=[]\n",
    "for s in range(0,len(nom)):\n",
    "    numeric.append(s)\n",
    "numeric=np.array([numeric])\n",
    "print(numeric)\n",
    "print([nom[0],nom[1],nom[2]])\n",
    "print([nom[2],nom[1],nom[2]])\n",
    "#We set the value in dictionary to numeric value"
   ]
  },
  {
   "cell_type": "code",
   "execution_count": 14,
   "metadata": {},
   "outputs": [],
   "source": [
    "#(d)normalize"
   ]
  },
  {
   "cell_type": "code",
   "execution_count": 15,
   "metadata": {},
   "outputs": [
    {
     "name": "stdout",
     "output_type": "stream",
     "text": [
      "[21.053, 18.797, 22.556, 34.586, 24.812, 33.835, 100.0, 64.662, 61.654, 52.632, 84.211, 21.805, 29.323, 30.075, 45.113, 45.865, 72.932, 0.0, 18.045, 15.038, 39.9, 13.534, 9.774, 43.609, 18.045, 71.429, 12.03, 30.075, 48.872, 75.94, 76.692]\n"
     ]
    }
   ],
   "source": [
    "#Weight\n",
    "w_max=replaced_weight.max()\n",
    "w_min=replaced_weight.min()\n",
    "diff_w=(w_max-w_min)\n",
    "normalize_weight=[]\n",
    "for normal in range(0,len(replaced_weight)):\n",
    "    normalize_weight.append((replaced_weight[normal]-w_min)/diff_w)\n",
    "normalizeWeight=[round(i*100,3) for i in normalize_weight]\n",
    "print(normalizeWeight)"
   ]
  },
  {
   "cell_type": "code",
   "execution_count": 16,
   "metadata": {},
   "outputs": [
    {
     "name": "stdout",
     "output_type": "stream",
     "text": [
      "[9.677, 12.903, 12.903, 12.903, 19.355, 32.258, 48.387, 67.742, 70.968, 77.419, 80.645, 32.258, 35.484, 41.935, 51.613, 51.613, 41.398, 0.0, 0.0, 6.452, 9.677, 16.129, 25.806, 29.032, 35.484, 64.516, 64.516, 64.516, 67.742, 100.0, 100.0]\n"
     ]
    }
   ],
   "source": [
    "#Radius\n",
    "r_max=replaced_radius.max()\n",
    "r_min=replaced_radius.min()\n",
    "diff_r=(r_max-r_min)\n",
    "normalize_radius=[]\n",
    "for norm in range(0,len(replaced_radius)):\n",
    "    normalize_radius.append((replaced_radius[norm]-r_min)/diff_r)\n",
    "NormalizeRadius=[round(i*100,3) for i in normalize_radius]\n",
    "print(NormalizeRadius)"
   ]
  }
 ],
 "metadata": {
  "kernelspec": {
   "display_name": "Python 3 (ipykernel)",
   "language": "python",
   "name": "python3"
  },
  "language_info": {
   "codemirror_mode": {
    "name": "ipython",
    "version": 3
   },
   "file_extension": ".py",
   "mimetype": "text/x-python",
   "name": "python",
   "nbconvert_exporter": "python",
   "pygments_lexer": "ipython3",
   "version": "3.9.12"
  }
 },
 "nbformat": 4,
 "nbformat_minor": 4
}
